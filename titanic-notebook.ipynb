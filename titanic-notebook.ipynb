{
 "cells": [
  {
   "cell_type": "code",
   "execution_count": 1,
   "id": "31faa1d9",
   "metadata": {
    "_cell_guid": "b1076dfc-b9ad-4769-8c92-a6c4dae69d19",
    "_uuid": "8f2839f25d086af736a60e9eeb907d3b93b6e0e5",
    "execution": {
     "iopub.execute_input": "2023-11-13T02:36:22.482105Z",
     "iopub.status.busy": "2023-11-13T02:36:22.481682Z",
     "iopub.status.idle": "2023-11-13T02:36:24.304675Z",
     "shell.execute_reply": "2023-11-13T02:36:24.303471Z"
    },
    "papermill": {
     "duration": 1.831526,
     "end_time": "2023-11-13T02:36:24.306687",
     "exception": false,
     "start_time": "2023-11-13T02:36:22.475161",
     "status": "completed"
    },
    "tags": []
   },
   "outputs": [
    {
     "name": "stdout",
     "output_type": "stream",
     "text": [
      "Setup Complete\n"
     ]
    }
   ],
   "source": [
    "import pandas as pd\n",
    "pd.plotting.register_matplotlib_converters()\n",
    "import matplotlib.pyplot as plt\n",
    "%matplotlib inline\n",
    "import seaborn as sns\n",
    "print(\"Setup Complete\")"
   ]
  },
  {
   "cell_type": "code",
   "execution_count": 2,
   "id": "79659a87",
   "metadata": {
    "execution": {
     "iopub.execute_input": "2023-11-13T02:36:24.317960Z",
     "iopub.status.busy": "2023-11-13T02:36:24.316230Z",
     "iopub.status.idle": "2023-11-13T02:36:24.455032Z",
     "shell.execute_reply": "2023-11-13T02:36:24.453817Z"
    },
    "papermill": {
     "duration": 0.146738,
     "end_time": "2023-11-13T02:36:24.457685",
     "exception": false,
     "start_time": "2023-11-13T02:36:24.310947",
     "status": "completed"
    },
    "tags": []
   },
   "outputs": [
    {
     "name": "stdout",
     "output_type": "stream",
     "text": [
      "Data Imported\n",
      "(891, 11)\n",
      "(418, 10)\n"
     ]
    }
   ],
   "source": [
    "# Load the data\n",
    "X_full = pd.read_csv('/kaggle/input/titanic/train.csv', index_col='PassengerId')\n",
    "X_test_full = pd.read_csv('/kaggle/input/titanic/test.csv', index_col='PassengerId')\n",
    "print(\"Data Imported\")\n",
    "\n",
    "# Gets the number of rows and columns\n",
    "print(X_full.shape)\n",
    "print(X_test_full.shape)"
   ]
  },
  {
   "cell_type": "code",
   "execution_count": 3,
   "id": "47bb5df5",
   "metadata": {
    "execution": {
     "iopub.execute_input": "2023-11-13T02:36:24.468854Z",
     "iopub.status.busy": "2023-11-13T02:36:24.468139Z",
     "iopub.status.idle": "2023-11-13T02:36:24.496455Z",
     "shell.execute_reply": "2023-11-13T02:36:24.495094Z"
    },
    "papermill": {
     "duration": 0.037375,
     "end_time": "2023-11-13T02:36:24.499614",
     "exception": false,
     "start_time": "2023-11-13T02:36:24.462239",
     "status": "completed"
    },
    "tags": []
   },
   "outputs": [
    {
     "data": {
      "text/html": [
       "<div>\n",
       "<style scoped>\n",
       "    .dataframe tbody tr th:only-of-type {\n",
       "        vertical-align: middle;\n",
       "    }\n",
       "\n",
       "    .dataframe tbody tr th {\n",
       "        vertical-align: top;\n",
       "    }\n",
       "\n",
       "    .dataframe thead th {\n",
       "        text-align: right;\n",
       "    }\n",
       "</style>\n",
       "<table border=\"1\" class=\"dataframe\">\n",
       "  <thead>\n",
       "    <tr style=\"text-align: right;\">\n",
       "      <th></th>\n",
       "      <th>Survived</th>\n",
       "      <th>Pclass</th>\n",
       "      <th>Name</th>\n",
       "      <th>Sex</th>\n",
       "      <th>Age</th>\n",
       "      <th>SibSp</th>\n",
       "      <th>Parch</th>\n",
       "      <th>Ticket</th>\n",
       "      <th>Fare</th>\n",
       "      <th>Cabin</th>\n",
       "      <th>Embarked</th>\n",
       "    </tr>\n",
       "    <tr>\n",
       "      <th>PassengerId</th>\n",
       "      <th></th>\n",
       "      <th></th>\n",
       "      <th></th>\n",
       "      <th></th>\n",
       "      <th></th>\n",
       "      <th></th>\n",
       "      <th></th>\n",
       "      <th></th>\n",
       "      <th></th>\n",
       "      <th></th>\n",
       "      <th></th>\n",
       "    </tr>\n",
       "  </thead>\n",
       "  <tbody>\n",
       "    <tr>\n",
       "      <th>1</th>\n",
       "      <td>0</td>\n",
       "      <td>3</td>\n",
       "      <td>Braund, Mr. Owen Harris</td>\n",
       "      <td>male</td>\n",
       "      <td>22.0</td>\n",
       "      <td>1</td>\n",
       "      <td>0</td>\n",
       "      <td>A/5 21171</td>\n",
       "      <td>7.2500</td>\n",
       "      <td>NaN</td>\n",
       "      <td>S</td>\n",
       "    </tr>\n",
       "    <tr>\n",
       "      <th>2</th>\n",
       "      <td>1</td>\n",
       "      <td>1</td>\n",
       "      <td>Cumings, Mrs. John Bradley (Florence Briggs Th...</td>\n",
       "      <td>female</td>\n",
       "      <td>38.0</td>\n",
       "      <td>1</td>\n",
       "      <td>0</td>\n",
       "      <td>PC 17599</td>\n",
       "      <td>71.2833</td>\n",
       "      <td>C85</td>\n",
       "      <td>C</td>\n",
       "    </tr>\n",
       "    <tr>\n",
       "      <th>3</th>\n",
       "      <td>1</td>\n",
       "      <td>3</td>\n",
       "      <td>Heikkinen, Miss. Laina</td>\n",
       "      <td>female</td>\n",
       "      <td>26.0</td>\n",
       "      <td>0</td>\n",
       "      <td>0</td>\n",
       "      <td>STON/O2. 3101282</td>\n",
       "      <td>7.9250</td>\n",
       "      <td>NaN</td>\n",
       "      <td>S</td>\n",
       "    </tr>\n",
       "    <tr>\n",
       "      <th>4</th>\n",
       "      <td>1</td>\n",
       "      <td>1</td>\n",
       "      <td>Futrelle, Mrs. Jacques Heath (Lily May Peel)</td>\n",
       "      <td>female</td>\n",
       "      <td>35.0</td>\n",
       "      <td>1</td>\n",
       "      <td>0</td>\n",
       "      <td>113803</td>\n",
       "      <td>53.1000</td>\n",
       "      <td>C123</td>\n",
       "      <td>S</td>\n",
       "    </tr>\n",
       "    <tr>\n",
       "      <th>5</th>\n",
       "      <td>0</td>\n",
       "      <td>3</td>\n",
       "      <td>Allen, Mr. William Henry</td>\n",
       "      <td>male</td>\n",
       "      <td>35.0</td>\n",
       "      <td>0</td>\n",
       "      <td>0</td>\n",
       "      <td>373450</td>\n",
       "      <td>8.0500</td>\n",
       "      <td>NaN</td>\n",
       "      <td>S</td>\n",
       "    </tr>\n",
       "  </tbody>\n",
       "</table>\n",
       "</div>"
      ],
      "text/plain": [
       "             Survived  Pclass  \\\n",
       "PassengerId                     \n",
       "1                   0       3   \n",
       "2                   1       1   \n",
       "3                   1       3   \n",
       "4                   1       1   \n",
       "5                   0       3   \n",
       "\n",
       "                                                          Name     Sex   Age  \\\n",
       "PassengerId                                                                    \n",
       "1                                      Braund, Mr. Owen Harris    male  22.0   \n",
       "2            Cumings, Mrs. John Bradley (Florence Briggs Th...  female  38.0   \n",
       "3                                       Heikkinen, Miss. Laina  female  26.0   \n",
       "4                 Futrelle, Mrs. Jacques Heath (Lily May Peel)  female  35.0   \n",
       "5                                     Allen, Mr. William Henry    male  35.0   \n",
       "\n",
       "             SibSp  Parch            Ticket     Fare Cabin Embarked  \n",
       "PassengerId                                                          \n",
       "1                1      0         A/5 21171   7.2500   NaN        S  \n",
       "2                1      0          PC 17599  71.2833   C85        C  \n",
       "3                0      0  STON/O2. 3101282   7.9250   NaN        S  \n",
       "4                1      0            113803  53.1000  C123        S  \n",
       "5                0      0            373450   8.0500   NaN        S  "
      ]
     },
     "execution_count": 3,
     "metadata": {},
     "output_type": "execute_result"
    }
   ],
   "source": [
    "X_full.head()"
   ]
  },
  {
   "cell_type": "code",
   "execution_count": 4,
   "id": "428aeea6",
   "metadata": {
    "execution": {
     "iopub.execute_input": "2023-11-13T02:36:24.511774Z",
     "iopub.status.busy": "2023-11-13T02:36:24.511342Z",
     "iopub.status.idle": "2023-11-13T02:36:24.529853Z",
     "shell.execute_reply": "2023-11-13T02:36:24.528393Z"
    },
    "papermill": {
     "duration": 0.027881,
     "end_time": "2023-11-13T02:36:24.533030",
     "exception": false,
     "start_time": "2023-11-13T02:36:24.505149",
     "status": "completed"
    },
    "tags": []
   },
   "outputs": [
    {
     "data": {
      "text/html": [
       "<div>\n",
       "<style scoped>\n",
       "    .dataframe tbody tr th:only-of-type {\n",
       "        vertical-align: middle;\n",
       "    }\n",
       "\n",
       "    .dataframe tbody tr th {\n",
       "        vertical-align: top;\n",
       "    }\n",
       "\n",
       "    .dataframe thead th {\n",
       "        text-align: right;\n",
       "    }\n",
       "</style>\n",
       "<table border=\"1\" class=\"dataframe\">\n",
       "  <thead>\n",
       "    <tr style=\"text-align: right;\">\n",
       "      <th></th>\n",
       "      <th>Pclass</th>\n",
       "      <th>Name</th>\n",
       "      <th>Sex</th>\n",
       "      <th>Age</th>\n",
       "      <th>SibSp</th>\n",
       "      <th>Parch</th>\n",
       "      <th>Ticket</th>\n",
       "      <th>Fare</th>\n",
       "      <th>Cabin</th>\n",
       "      <th>Embarked</th>\n",
       "    </tr>\n",
       "    <tr>\n",
       "      <th>PassengerId</th>\n",
       "      <th></th>\n",
       "      <th></th>\n",
       "      <th></th>\n",
       "      <th></th>\n",
       "      <th></th>\n",
       "      <th></th>\n",
       "      <th></th>\n",
       "      <th></th>\n",
       "      <th></th>\n",
       "      <th></th>\n",
       "    </tr>\n",
       "  </thead>\n",
       "  <tbody>\n",
       "    <tr>\n",
       "      <th>892</th>\n",
       "      <td>3</td>\n",
       "      <td>Kelly, Mr. James</td>\n",
       "      <td>male</td>\n",
       "      <td>34.5</td>\n",
       "      <td>0</td>\n",
       "      <td>0</td>\n",
       "      <td>330911</td>\n",
       "      <td>7.8292</td>\n",
       "      <td>NaN</td>\n",
       "      <td>Q</td>\n",
       "    </tr>\n",
       "    <tr>\n",
       "      <th>893</th>\n",
       "      <td>3</td>\n",
       "      <td>Wilkes, Mrs. James (Ellen Needs)</td>\n",
       "      <td>female</td>\n",
       "      <td>47.0</td>\n",
       "      <td>1</td>\n",
       "      <td>0</td>\n",
       "      <td>363272</td>\n",
       "      <td>7.0000</td>\n",
       "      <td>NaN</td>\n",
       "      <td>S</td>\n",
       "    </tr>\n",
       "    <tr>\n",
       "      <th>894</th>\n",
       "      <td>2</td>\n",
       "      <td>Myles, Mr. Thomas Francis</td>\n",
       "      <td>male</td>\n",
       "      <td>62.0</td>\n",
       "      <td>0</td>\n",
       "      <td>0</td>\n",
       "      <td>240276</td>\n",
       "      <td>9.6875</td>\n",
       "      <td>NaN</td>\n",
       "      <td>Q</td>\n",
       "    </tr>\n",
       "    <tr>\n",
       "      <th>895</th>\n",
       "      <td>3</td>\n",
       "      <td>Wirz, Mr. Albert</td>\n",
       "      <td>male</td>\n",
       "      <td>27.0</td>\n",
       "      <td>0</td>\n",
       "      <td>0</td>\n",
       "      <td>315154</td>\n",
       "      <td>8.6625</td>\n",
       "      <td>NaN</td>\n",
       "      <td>S</td>\n",
       "    </tr>\n",
       "    <tr>\n",
       "      <th>896</th>\n",
       "      <td>3</td>\n",
       "      <td>Hirvonen, Mrs. Alexander (Helga E Lindqvist)</td>\n",
       "      <td>female</td>\n",
       "      <td>22.0</td>\n",
       "      <td>1</td>\n",
       "      <td>1</td>\n",
       "      <td>3101298</td>\n",
       "      <td>12.2875</td>\n",
       "      <td>NaN</td>\n",
       "      <td>S</td>\n",
       "    </tr>\n",
       "  </tbody>\n",
       "</table>\n",
       "</div>"
      ],
      "text/plain": [
       "             Pclass                                          Name     Sex  \\\n",
       "PassengerId                                                                 \n",
       "892               3                              Kelly, Mr. James    male   \n",
       "893               3              Wilkes, Mrs. James (Ellen Needs)  female   \n",
       "894               2                     Myles, Mr. Thomas Francis    male   \n",
       "895               3                              Wirz, Mr. Albert    male   \n",
       "896               3  Hirvonen, Mrs. Alexander (Helga E Lindqvist)  female   \n",
       "\n",
       "              Age  SibSp  Parch   Ticket     Fare Cabin Embarked  \n",
       "PassengerId                                                       \n",
       "892          34.5      0      0   330911   7.8292   NaN        Q  \n",
       "893          47.0      1      0   363272   7.0000   NaN        S  \n",
       "894          62.0      0      0   240276   9.6875   NaN        Q  \n",
       "895          27.0      0      0   315154   8.6625   NaN        S  \n",
       "896          22.0      1      1  3101298  12.2875   NaN        S  "
      ]
     },
     "execution_count": 4,
     "metadata": {},
     "output_type": "execute_result"
    }
   ],
   "source": [
    "X_test_full.head()"
   ]
  },
  {
   "cell_type": "code",
   "execution_count": 5,
   "id": "521ddd1e",
   "metadata": {
    "execution": {
     "iopub.execute_input": "2023-11-13T02:36:24.544321Z",
     "iopub.status.busy": "2023-11-13T02:36:24.543679Z",
     "iopub.status.idle": "2023-11-13T02:36:24.887957Z",
     "shell.execute_reply": "2023-11-13T02:36:24.886449Z"
    },
    "papermill": {
     "duration": 0.352698,
     "end_time": "2023-11-13T02:36:24.890586",
     "exception": false,
     "start_time": "2023-11-13T02:36:24.537888",
     "status": "completed"
    },
    "tags": []
   },
   "outputs": [
    {
     "name": "stdout",
     "output_type": "stream",
     "text": [
      "Success\n"
     ]
    }
   ],
   "source": [
    "# Obtain target and predictors\n",
    "y = X_full.Survived\n",
    "X = X_full.drop(['Survived'], axis=1)\n",
    "\n",
    "# Import train_test_split from Scikit-Learn\n",
    "from sklearn.model_selection import train_test_split\n",
    "\n",
    "# Divide data into training and validation subsets\n",
    "X_train_full, X_valid_full, y_train, y_valid = train_test_split(X, y, train_size=0.8, test_size=0.2,\n",
    "                                                                random_state=0)\n",
    "\n",
    "print(\"Success\")"
   ]
  },
  {
   "cell_type": "code",
   "execution_count": 6,
   "id": "fbf92e6a",
   "metadata": {
    "execution": {
     "iopub.execute_input": "2023-11-13T02:36:24.902055Z",
     "iopub.status.busy": "2023-11-13T02:36:24.901684Z",
     "iopub.status.idle": "2023-11-13T02:36:24.911868Z",
     "shell.execute_reply": "2023-11-13T02:36:24.910658Z"
    },
    "papermill": {
     "duration": 0.018999,
     "end_time": "2023-11-13T02:36:24.914480",
     "exception": false,
     "start_time": "2023-11-13T02:36:24.895481",
     "status": "completed"
    },
    "tags": []
   },
   "outputs": [
    {
     "name": "stdout",
     "output_type": "stream",
     "text": [
      "['Age', 'Cabin', 'Embarked']\n"
     ]
    }
   ],
   "source": [
    "# Finds columns in X_train_full that have missing values\n",
    "cols_with_missing = [col for col in X_train_full.columns if X_train_full[col].isnull().any()]\n",
    "print(cols_with_missing)"
   ]
  },
  {
   "cell_type": "code",
   "execution_count": 7,
   "id": "78b4eb3d",
   "metadata": {
    "execution": {
     "iopub.execute_input": "2023-11-13T02:36:24.926490Z",
     "iopub.status.busy": "2023-11-13T02:36:24.925836Z",
     "iopub.status.idle": "2023-11-13T02:36:24.933569Z",
     "shell.execute_reply": "2023-11-13T02:36:24.932284Z"
    },
    "papermill": {
     "duration": 0.016084,
     "end_time": "2023-11-13T02:36:24.935478",
     "exception": false,
     "start_time": "2023-11-13T02:36:24.919394",
     "status": "completed"
    },
    "tags": []
   },
   "outputs": [
    {
     "name": "stdout",
     "output_type": "stream",
     "text": [
      "(712, 10)\n",
      "Age         141\n",
      "Cabin       549\n",
      "Embarked      2\n",
      "dtype: int64\n"
     ]
    }
   ],
   "source": [
    "# Shape of training data (num_rows, num_columns)\n",
    "print(X_train_full.shape)\n",
    "\n",
    "# Number of missing values in each column of training data\n",
    "missing_val_count_by_column = (X_train_full.isnull().sum())\n",
    "print(missing_val_count_by_column[missing_val_count_by_column > 0])"
   ]
  },
  {
   "cell_type": "code",
   "execution_count": 8,
   "id": "717edc23",
   "metadata": {
    "execution": {
     "iopub.execute_input": "2023-11-13T02:36:24.947180Z",
     "iopub.status.busy": "2023-11-13T02:36:24.946589Z",
     "iopub.status.idle": "2023-11-13T02:36:24.954331Z",
     "shell.execute_reply": "2023-11-13T02:36:24.952461Z"
    },
    "papermill": {
     "duration": 0.01695,
     "end_time": "2023-11-13T02:36:24.957268",
     "exception": false,
     "start_time": "2023-11-13T02:36:24.940318",
     "status": "completed"
    },
    "tags": []
   },
   "outputs": [
    {
     "name": "stdout",
     "output_type": "stream",
     "text": [
      "Categorical variables:\n",
      "['Name', 'Sex', 'Ticket', 'Cabin', 'Embarked']\n"
     ]
    }
   ],
   "source": [
    "# Get list of categorical variables\n",
    "s = (X_train_full.dtypes == 'object')\n",
    "object_cols = list(s[s].index)\n",
    "\n",
    "print(\"Categorical variables:\")\n",
    "print(object_cols)"
   ]
  },
  {
   "cell_type": "code",
   "execution_count": 9,
   "id": "539365cf",
   "metadata": {
    "execution": {
     "iopub.execute_input": "2023-11-13T02:36:24.971724Z",
     "iopub.status.busy": "2023-11-13T02:36:24.970858Z",
     "iopub.status.idle": "2023-11-13T02:36:24.983087Z",
     "shell.execute_reply": "2023-11-13T02:36:24.981576Z"
    },
    "papermill": {
     "duration": 0.021901,
     "end_time": "2023-11-13T02:36:24.985960",
     "exception": false,
     "start_time": "2023-11-13T02:36:24.964059",
     "status": "completed"
    },
    "tags": []
   },
   "outputs": [
    {
     "name": "stdout",
     "output_type": "stream",
     "text": [
      "['Sex', 'Embarked']\n"
     ]
    }
   ],
   "source": [
    "# \"Cardinality\" means the number of unique values in a column\n",
    "# Select categorical columns with relatively low cardinality (convenient but arbitrary)\n",
    "low_cardinality_cols = [cname for cname in X_train_full.columns if X_train_full[cname].nunique() < 10 and \n",
    "                        X_train_full[cname].dtype == \"object\"]\n",
    "print(low_cardinality_cols)"
   ]
  },
  {
   "cell_type": "code",
   "execution_count": 10,
   "id": "a1f4a7b8",
   "metadata": {
    "execution": {
     "iopub.execute_input": "2023-11-13T02:36:24.997894Z",
     "iopub.status.busy": "2023-11-13T02:36:24.997269Z",
     "iopub.status.idle": "2023-11-13T02:36:25.003021Z",
     "shell.execute_reply": "2023-11-13T02:36:25.001323Z"
    },
    "papermill": {
     "duration": 0.014412,
     "end_time": "2023-11-13T02:36:25.005507",
     "exception": false,
     "start_time": "2023-11-13T02:36:24.991095",
     "status": "completed"
    },
    "tags": []
   },
   "outputs": [],
   "source": [
    "# Maybe do the Mutual Information stuff from the Feature Engineering tutorial"
   ]
  },
  {
   "cell_type": "code",
   "execution_count": 11,
   "id": "147c514b",
   "metadata": {
    "execution": {
     "iopub.execute_input": "2023-11-13T02:36:25.017911Z",
     "iopub.status.busy": "2023-11-13T02:36:25.017505Z",
     "iopub.status.idle": "2023-11-13T02:36:25.324219Z",
     "shell.execute_reply": "2023-11-13T02:36:25.322721Z"
    },
    "papermill": {
     "duration": 0.316155,
     "end_time": "2023-11-13T02:36:25.326787",
     "exception": false,
     "start_time": "2023-11-13T02:36:25.010632",
     "status": "completed"
    },
    "tags": []
   },
   "outputs": [],
   "source": [
    "#Import RandomForestClassifier and accuracy_score\n",
    "from sklearn.ensemble import RandomForestClassifier\n",
    "from sklearn.metrics import accuracy_score"
   ]
  },
  {
   "cell_type": "code",
   "execution_count": 12,
   "id": "790c2be3",
   "metadata": {
    "execution": {
     "iopub.execute_input": "2023-11-13T02:36:25.337947Z",
     "iopub.status.busy": "2023-11-13T02:36:25.337500Z",
     "iopub.status.idle": "2023-11-13T02:36:25.352404Z",
     "shell.execute_reply": "2023-11-13T02:36:25.350925Z"
    },
    "papermill": {
     "duration": 0.023109,
     "end_time": "2023-11-13T02:36:25.354792",
     "exception": false,
     "start_time": "2023-11-13T02:36:25.331683",
     "status": "completed"
    },
    "tags": []
   },
   "outputs": [
    {
     "name": "stdout",
     "output_type": "stream",
     "text": [
      "                Sex   Age  SibSp  Parch     Fare Embarked\n",
      "PassengerId                                              \n",
      "141          female   NaN      0      2  15.2458        C\n",
      "440            male  31.0      0      0  10.5000        S\n",
      "818            male  31.0      1      1  37.0042        C\n",
      "379            male  20.0      0      0   4.0125        C\n",
      "492            male  21.0      0      0   7.2500        S\n",
      "                Sex   Age  SibSp  Parch      Fare Embarked\n",
      "PassengerId                                               \n",
      "496            male   NaN      0      0   14.4583        C\n",
      "649            male   NaN      0      0    7.5500        S\n",
      "279            male   7.0      4      1   29.1250        Q\n",
      "32           female   NaN      1      0  146.5208        C\n",
      "256          female  29.0      0      2   15.2458        C\n"
     ]
    }
   ],
   "source": [
    "#Select features to train and validate\n",
    "features=[\"Sex\",\"Age\",\"SibSp\",\"Parch\",\"Fare\",\"Embarked\"]\n",
    "X_train=X_train_full[features]\n",
    "X_valid=X_valid_full[features]\n",
    "print(X_train.head())\n",
    "print(X_valid.head())"
   ]
  },
  {
   "cell_type": "code",
   "execution_count": 13,
   "id": "b6e81a63",
   "metadata": {
    "execution": {
     "iopub.execute_input": "2023-11-13T02:36:25.367758Z",
     "iopub.status.busy": "2023-11-13T02:36:25.366609Z",
     "iopub.status.idle": "2023-11-13T02:36:25.382863Z",
     "shell.execute_reply": "2023-11-13T02:36:25.381847Z"
    },
    "papermill": {
     "duration": 0.024846,
     "end_time": "2023-11-13T02:36:25.384949",
     "exception": false,
     "start_time": "2023-11-13T02:36:25.360103",
     "status": "completed"
    },
    "tags": []
   },
   "outputs": [
    {
     "name": "stdout",
     "output_type": "stream",
     "text": [
      "                Sex        Age  SibSp  Parch     Fare Embarked\n",
      "PassengerId                                                   \n",
      "141          female  29.745184      0      2  15.2458        C\n",
      "440            male  31.000000      0      0  10.5000        S\n",
      "818            male  31.000000      1      1  37.0042        C\n",
      "379            male  20.000000      0      0   4.0125        C\n",
      "492            male  21.000000      0      0   7.2500        S\n",
      "                Sex        Age  SibSp  Parch      Fare Embarked\n",
      "PassengerId                                                    \n",
      "496            male  29.515175      0      0   14.4583        C\n",
      "649            male  29.515175      0      0    7.5500        S\n",
      "279            male   7.000000      4      1   29.1250        Q\n",
      "32           female  29.515175      1      0  146.5208        C\n",
      "256          female  29.000000      0      2   15.2458        C\n"
     ]
    }
   ],
   "source": [
    "#Fill in missing values (age is filled in with average)\n",
    "X_train.loc[:,\"Age\"]=X_train.Age.fillna(X_train.Age.mean())\n",
    "X_train.loc[:,\"Embarked\"]=X_train.Embarked.fillna(\"Missing\")\n",
    "X_valid.loc[:,\"Age\"]=X_valid.Age.fillna(X_valid.Age.mean())\n",
    "X_valid.loc[:,\"Embarked\"]=X_valid.Embarked.fillna(\"Missing\")\n",
    "print(X_train.head())\n",
    "print(X_valid.head())"
   ]
  },
  {
   "cell_type": "code",
   "execution_count": 14,
   "id": "9d96bafc",
   "metadata": {
    "execution": {
     "iopub.execute_input": "2023-11-13T02:36:25.397096Z",
     "iopub.status.busy": "2023-11-13T02:36:25.396110Z",
     "iopub.status.idle": "2023-11-13T02:36:25.411881Z",
     "shell.execute_reply": "2023-11-13T02:36:25.409726Z"
    },
    "papermill": {
     "duration": 0.025033,
     "end_time": "2023-11-13T02:36:25.415063",
     "exception": false,
     "start_time": "2023-11-13T02:36:25.390030",
     "status": "completed"
    },
    "tags": []
   },
   "outputs": [
    {
     "name": "stdout",
     "output_type": "stream",
     "text": [
      "            Sex        Age  SibSp  Parch     Fare Embarked\n",
      "PassengerId                                               \n",
      "141           0  29.745184      0      2  15.2458        0\n",
      "440           1  31.000000      0      0  10.5000        1\n",
      "818           1  31.000000      1      1  37.0042        0\n",
      "379           1  20.000000      0      0   4.0125        0\n",
      "492           1  21.000000      0      0   7.2500        1\n",
      "            Sex        Age  SibSp  Parch      Fare Embarked\n",
      "PassengerId                                                \n",
      "496           0  29.515175      0      0   14.4583        0\n",
      "649           0  29.515175      0      0    7.5500        1\n",
      "279           0   7.000000      4      1   29.1250        2\n",
      "32            1  29.515175      1      0  146.5208        0\n",
      "256           1  29.000000      0      2   15.2458        0\n"
     ]
    }
   ],
   "source": [
    "#Convert categorical variables to numerical\n",
    "X_train.loc[:,\"Sex\"]=X_train.Sex.factorize()[0]\n",
    "X_train.loc[:,\"Embarked\"]=X_train.Embarked.factorize()[0]\n",
    "X_valid.loc[:,\"Sex\"]=X_valid.Sex.factorize()[0]\n",
    "X_valid.loc[:,\"Embarked\"]=X_valid.Embarked.factorize()[0]\n",
    "print(X_train.head())\n",
    "print(X_valid.head())"
   ]
  },
  {
   "cell_type": "code",
   "execution_count": 15,
   "id": "0a67aa11",
   "metadata": {
    "execution": {
     "iopub.execute_input": "2023-11-13T02:36:25.428951Z",
     "iopub.status.busy": "2023-11-13T02:36:25.428559Z",
     "iopub.status.idle": "2023-11-13T02:36:25.634406Z",
     "shell.execute_reply": "2023-11-13T02:36:25.633435Z"
    },
    "papermill": {
     "duration": 0.215024,
     "end_time": "2023-11-13T02:36:25.636427",
     "exception": false,
     "start_time": "2023-11-13T02:36:25.421403",
     "status": "completed"
    },
    "tags": []
   },
   "outputs": [
    {
     "data": {
      "text/html": [
       "<style>#sk-container-id-1 {color: black;background-color: white;}#sk-container-id-1 pre{padding: 0;}#sk-container-id-1 div.sk-toggleable {background-color: white;}#sk-container-id-1 label.sk-toggleable__label {cursor: pointer;display: block;width: 100%;margin-bottom: 0;padding: 0.3em;box-sizing: border-box;text-align: center;}#sk-container-id-1 label.sk-toggleable__label-arrow:before {content: \"▸\";float: left;margin-right: 0.25em;color: #696969;}#sk-container-id-1 label.sk-toggleable__label-arrow:hover:before {color: black;}#sk-container-id-1 div.sk-estimator:hover label.sk-toggleable__label-arrow:before {color: black;}#sk-container-id-1 div.sk-toggleable__content {max-height: 0;max-width: 0;overflow: hidden;text-align: left;background-color: #f0f8ff;}#sk-container-id-1 div.sk-toggleable__content pre {margin: 0.2em;color: black;border-radius: 0.25em;background-color: #f0f8ff;}#sk-container-id-1 input.sk-toggleable__control:checked~div.sk-toggleable__content {max-height: 200px;max-width: 100%;overflow: auto;}#sk-container-id-1 input.sk-toggleable__control:checked~label.sk-toggleable__label-arrow:before {content: \"▾\";}#sk-container-id-1 div.sk-estimator input.sk-toggleable__control:checked~label.sk-toggleable__label {background-color: #d4ebff;}#sk-container-id-1 div.sk-label input.sk-toggleable__control:checked~label.sk-toggleable__label {background-color: #d4ebff;}#sk-container-id-1 input.sk-hidden--visually {border: 0;clip: rect(1px 1px 1px 1px);clip: rect(1px, 1px, 1px, 1px);height: 1px;margin: -1px;overflow: hidden;padding: 0;position: absolute;width: 1px;}#sk-container-id-1 div.sk-estimator {font-family: monospace;background-color: #f0f8ff;border: 1px dotted black;border-radius: 0.25em;box-sizing: border-box;margin-bottom: 0.5em;}#sk-container-id-1 div.sk-estimator:hover {background-color: #d4ebff;}#sk-container-id-1 div.sk-parallel-item::after {content: \"\";width: 100%;border-bottom: 1px solid gray;flex-grow: 1;}#sk-container-id-1 div.sk-label:hover label.sk-toggleable__label {background-color: #d4ebff;}#sk-container-id-1 div.sk-serial::before {content: \"\";position: absolute;border-left: 1px solid gray;box-sizing: border-box;top: 0;bottom: 0;left: 50%;z-index: 0;}#sk-container-id-1 div.sk-serial {display: flex;flex-direction: column;align-items: center;background-color: white;padding-right: 0.2em;padding-left: 0.2em;position: relative;}#sk-container-id-1 div.sk-item {position: relative;z-index: 1;}#sk-container-id-1 div.sk-parallel {display: flex;align-items: stretch;justify-content: center;background-color: white;position: relative;}#sk-container-id-1 div.sk-item::before, #sk-container-id-1 div.sk-parallel-item::before {content: \"\";position: absolute;border-left: 1px solid gray;box-sizing: border-box;top: 0;bottom: 0;left: 50%;z-index: -1;}#sk-container-id-1 div.sk-parallel-item {display: flex;flex-direction: column;z-index: 1;position: relative;background-color: white;}#sk-container-id-1 div.sk-parallel-item:first-child::after {align-self: flex-end;width: 50%;}#sk-container-id-1 div.sk-parallel-item:last-child::after {align-self: flex-start;width: 50%;}#sk-container-id-1 div.sk-parallel-item:only-child::after {width: 0;}#sk-container-id-1 div.sk-dashed-wrapped {border: 1px dashed gray;margin: 0 0.4em 0.5em 0.4em;box-sizing: border-box;padding-bottom: 0.4em;background-color: white;}#sk-container-id-1 div.sk-label label {font-family: monospace;font-weight: bold;display: inline-block;line-height: 1.2em;}#sk-container-id-1 div.sk-label-container {text-align: center;}#sk-container-id-1 div.sk-container {/* jupyter's `normalize.less` sets `[hidden] { display: none; }` but bootstrap.min.css set `[hidden] { display: none !important; }` so we also need the `!important` here to be able to override the default hidden behavior on the sphinx rendered scikit-learn.org. See: https://github.com/scikit-learn/scikit-learn/issues/21755 */display: inline-block !important;position: relative;}#sk-container-id-1 div.sk-text-repr-fallback {display: none;}</style><div id=\"sk-container-id-1\" class=\"sk-top-container\"><div class=\"sk-text-repr-fallback\"><pre>RandomForestClassifier()</pre><b>In a Jupyter environment, please rerun this cell to show the HTML representation or trust the notebook. <br />On GitHub, the HTML representation is unable to render, please try loading this page with nbviewer.org.</b></div><div class=\"sk-container\" hidden><div class=\"sk-item\"><div class=\"sk-estimator sk-toggleable\"><input class=\"sk-toggleable__control sk-hidden--visually\" id=\"sk-estimator-id-1\" type=\"checkbox\" checked><label for=\"sk-estimator-id-1\" class=\"sk-toggleable__label sk-toggleable__label-arrow\">RandomForestClassifier</label><div class=\"sk-toggleable__content\"><pre>RandomForestClassifier()</pre></div></div></div></div></div>"
      ],
      "text/plain": [
       "RandomForestClassifier()"
      ]
     },
     "execution_count": 15,
     "metadata": {},
     "output_type": "execute_result"
    }
   ],
   "source": [
    "#Training\n",
    "model=RandomForestClassifier()\n",
    "model.fit(X_train,y_train)"
   ]
  },
  {
   "cell_type": "code",
   "execution_count": 16,
   "id": "5fcdabac",
   "metadata": {
    "execution": {
     "iopub.execute_input": "2023-11-13T02:36:25.649654Z",
     "iopub.status.busy": "2023-11-13T02:36:25.648372Z",
     "iopub.status.idle": "2023-11-13T02:36:25.665219Z",
     "shell.execute_reply": "2023-11-13T02:36:25.664241Z"
    },
    "papermill": {
     "duration": 0.025986,
     "end_time": "2023-11-13T02:36:25.667771",
     "exception": false,
     "start_time": "2023-11-13T02:36:25.641785",
     "status": "completed"
    },
    "tags": []
   },
   "outputs": [
    {
     "name": "stdout",
     "output_type": "stream",
     "text": [
      "0.5139664804469274\n"
     ]
    }
   ],
   "source": [
    "#Validation\n",
    "y_pred=model.predict(X_valid)\n",
    "accuracy=accuracy_score(y_valid,y_pred)\n",
    "print(accuracy)"
   ]
  }
 ],
 "metadata": {
  "kernelspec": {
   "display_name": "Python 3",
   "language": "python",
   "name": "python3"
  },
  "language_info": {
   "codemirror_mode": {
    "name": "ipython",
    "version": 3
   },
   "file_extension": ".py",
   "mimetype": "text/x-python",
   "name": "python",
   "nbconvert_exporter": "python",
   "pygments_lexer": "ipython3",
   "version": "3.10.12"
  },
  "papermill": {
   "default_parameters": {},
   "duration": 6.95515,
   "end_time": "2023-11-13T02:36:26.395411",
   "environment_variables": {},
   "exception": null,
   "input_path": "__notebook__.ipynb",
   "output_path": "__notebook__.ipynb",
   "parameters": {},
   "start_time": "2023-11-13T02:36:19.440261",
   "version": "2.4.0"
  }
 },
 "nbformat": 4,
 "nbformat_minor": 5
}
